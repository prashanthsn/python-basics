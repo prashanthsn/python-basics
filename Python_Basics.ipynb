{
  "nbformat": 4,
  "nbformat_minor": 0,
  "metadata": {
    "colab": {
      "provenance": []
    },
    "kernelspec": {
      "name": "python3",
      "display_name": "Python 3"
    },
    "language_info": {
      "name": "python"
    }
  },
  "cells": [
    {
      "cell_type": "markdown",
      "source": [
        "\n",
        "1. What is Python, and why it is popular?\n",
        "  - Python is case sensitive and general pupose programming language.\n",
        "  - It is popular due to its ease of learning, versatility (web developm ent, machine learning etc.), readbility, has a lot of libraries and due its huge active community.\n",
        "\n",
        "2. What is an interpreter in Python?\n",
        "  - It is a program that executes the Python code line by line and translate it into machine readable format / instruction.\n",
        "\n",
        "3. What are pre-defined keywoards in Python?\n",
        "  - Keywords are predefined words that holds a special meaning and have a specific purpose in python programming.\n",
        "  Ex: print, type, if, etc.\n",
        "\n",
        "4. Can keywords be used as variable names?\n",
        "  - No. Keywords should not be used as a variable. Although keywords can be assigned values, but the builtin keyword pupose it lost and cannot be used in that program.\n",
        "\n",
        "5. What is mutability in Python?\n",
        "  - Objects/ Container whose state or value can be changed after they are created are called as mutable objects or container. Ex: Lists is a type of Mutable Object.\n",
        "\n",
        "6. Why are lists mutable, but tuples are immutable?\n",
        "  - Lists are mutable because they suupport item assignment, but tuples are immutable since they do not support item assignment.\n",
        "  \n",
        "  The values stored in list can be modified even after they are created, but not in the values stored in tuples.\n",
        "\n",
        "7. What is the difference between \"==\" and \"is\" operatoers in Python?\n",
        "  - == Operator checks if 2 objects has the same value\n",
        "  - is operator checks if 2 objects refer to same memory location\n",
        "Ex: a=3, b=a; a is b >> True\n",
        "\n",
        "8. What are logical oprators in Python?\n",
        "  - Logical Operators are: and, or, not\n",
        "  - and - It returns True if both operators are true\n",
        "  - or - It returns True if any one operator is also True\n",
        "  - not - it reverse the result of condition\n",
        "\n",
        "9. What is type casting in Python?\n",
        "  - It is the converting of one data type into another. Ex: string to integer, integer to string, etc.\n",
        "\n",
        "10. What is the difference between implicit and explicit type casting?\n",
        "  - Implicit: It is done automatically by converting int to float during operations etc.\n",
        "  - Explicit: It is done by us using fucntion liek int(a), float(b), str(c)\n",
        "\n",
        "11. What is the purpose of conditional statements in Python?\n",
        "  - The code is executed only if certain conditions are met. The program flow is based on these conditons.\n",
        "\n",
        "12. How does the elif statement work?\n",
        "  - Multiple conditon check is doen after initial if statement. When the if condition is true, the next block of code is executed.  \n",
        "\n",
        "13. What is the difference between far and while loops?\n",
        "  - far loop: The number of loops is fixed during a sequence iteration.\n",
        "  - while loop: The number of loops is repeated untill the condition is true and sequence iteration is done untill conditon false.\n",
        "\n",
        "14. Describle a scenario where a while loop is more suitable than a for loop.\n",
        "  - It is more suitable when the number of loop repetation is unknown to us. It can be used for processing of data untill a certain condition is met or valid response is given to stop.\n",
        "\n",
        "\n"
      ],
      "metadata": {
        "id": "CUZLPS7FZStM"
      }
    },
    {
      "cell_type": "code",
      "source": [
        "# 1. Write a Python program to print \"Hello World\"\n",
        "print(\"Hello World\")"
      ],
      "metadata": {
        "id": "CkKwdWhsbmlr",
        "colab": {
          "base_uri": "https://localhost:8080/"
        },
        "outputId": "3e9f49c4-8d92-4a8a-8d2f-05397c327449"
      },
      "execution_count": null,
      "outputs": [
        {
          "output_type": "stream",
          "name": "stdout",
          "text": [
            "Hello World\n"
          ]
        }
      ]
    },
    {
      "cell_type": "code",
      "source": [
        "# 2. Write a Python program that displays your name and age\n",
        "name = input(\"Enter your name: \")\n",
        "age = int(input(\"Enter your age: \"))\n",
        "\n",
        "print(f\"My name is {name} and I am {age} years old.\")"
      ],
      "metadata": {
        "id": "pm_UhZIWdElR",
        "colab": {
          "base_uri": "https://localhost:8080/"
        },
        "outputId": "4b608123-3d45-4db9-bbd0-635cc2f365c5"
      },
      "execution_count": 10,
      "outputs": [
        {
          "output_type": "stream",
          "name": "stdout",
          "text": [
            "Enter your name: a\n",
            "Enter your age: 1\n",
            "My name is a and I am 1 years old.\n"
          ]
        }
      ]
    },
    {
      "cell_type": "code",
      "source": [
        "# 3. Write code to print all the pre-defined keywords in Python using the keyword libray.\n",
        "help ('keywords')"
      ],
      "metadata": {
        "id": "JnIQ48gRdKtc",
        "colab": {
          "base_uri": "https://localhost:8080/"
        },
        "outputId": "080c31d5-549f-41a9-b6b2-3a6455331477"
      },
      "execution_count": null,
      "outputs": [
        {
          "output_type": "stream",
          "name": "stdout",
          "text": [
            "\n",
            "Here is a list of the Python keywords.  Enter any keyword to get more help.\n",
            "\n",
            "False               class               from                or\n",
            "None                continue            global              pass\n",
            "True                def                 if                  raise\n",
            "and                 del                 import              return\n",
            "as                  elif                in                  try\n",
            "assert              else                is                  while\n",
            "async               except              lambda              with\n",
            "await               finally             nonlocal            yield\n",
            "break               for                 not                 \n",
            "\n"
          ]
        }
      ]
    },
    {
      "cell_type": "code",
      "source": [
        "# 4. Write a program that checks if a given word is a Python keyword.\n",
        "import keyword\n",
        "word = input(\"Enter a word to check if it is a Python keyword: \")\n",
        "if keyword.iskeyword(word):\n",
        "    print(f\"'{word}' is a Python keyword.\")\n",
        "else:\n",
        "    print(f\"'{word}' is not a Python keyword.\")"
      ],
      "metadata": {
        "id": "4zecwMj1dUOT",
        "colab": {
          "base_uri": "https://localhost:8080/"
        },
        "outputId": "ac5ce9c0-4e10-4ef6-f5f7-fefddc5b9d94"
      },
      "execution_count": null,
      "outputs": [
        {
          "output_type": "stream",
          "name": "stdout",
          "text": [
            "Enter a word to check if it is a Python keyword: if\n",
            "'if' is a Python keyword.\n"
          ]
        }
      ]
    },
    {
      "cell_type": "code",
      "source": [
        "# 5. Create a list and tuple in Python, and demonstraste how attempteing to change an element works differently for each.\n",
        "# 5.1 List modification\n",
        "list_cont =  [1, 2, 3, 4, 5, 6.6, 3+5j, True, \"Ajay\"]\n",
        "print(\"list:\", list_cont)\n",
        "list_cont[0] = 1.2\n",
        "print(\"Modified list:\", list_cont)"
      ],
      "metadata": {
        "id": "2Okm-3fUddHT",
        "colab": {
          "base_uri": "https://localhost:8080/"
        },
        "outputId": "fbcc87ac-20b1-4260-c0c6-eb9ed1ca810c"
      },
      "execution_count": 2,
      "outputs": [
        {
          "output_type": "stream",
          "name": "stdout",
          "text": [
            "list: [1, 2, 3, 4, 5, 6.6, (3+5j), True, 'Ajay']\n",
            "Modified list: [1.2, 2, 3, 4, 5, 6.6, (3+5j), True, 'Ajay']\n"
          ]
        }
      ]
    },
    {
      "cell_type": "code",
      "source": [
        "from binascii import b2a_hex\n",
        "# 5.2 Tuple/ String modification\n",
        "b='Ajay'\n",
        "b[0]\n",
        "print(\"list:\", b)\n",
        "b[0]= 'W'\n",
        "print(\"Modified list:\", b2a_hex)"
      ],
      "metadata": {
        "colab": {
          "base_uri": "https://localhost:8080/",
          "height": 211
        },
        "id": "6Mzo_ZmKhQMw",
        "outputId": "488a70bc-73c8-4f59-d46d-5a166dd33c8a"
      },
      "execution_count": 4,
      "outputs": [
        {
          "output_type": "stream",
          "name": "stdout",
          "text": [
            "list: Ajay\n"
          ]
        },
        {
          "output_type": "error",
          "ename": "TypeError",
          "evalue": "'str' object does not support item assignment",
          "traceback": [
            "\u001b[0;31m---------------------------------------------------------------------------\u001b[0m",
            "\u001b[0;31mTypeError\u001b[0m                                 Traceback (most recent call last)",
            "\u001b[0;32m<ipython-input-4-df1a3335130e>\u001b[0m in \u001b[0;36m<cell line: 6>\u001b[0;34m()\u001b[0m\n\u001b[1;32m      4\u001b[0m \u001b[0mb\u001b[0m\u001b[0;34m[\u001b[0m\u001b[0;36m0\u001b[0m\u001b[0;34m]\u001b[0m\u001b[0;34m\u001b[0m\u001b[0;34m\u001b[0m\u001b[0m\n\u001b[1;32m      5\u001b[0m \u001b[0mprint\u001b[0m\u001b[0;34m(\u001b[0m\u001b[0;34m\"list:\"\u001b[0m\u001b[0;34m,\u001b[0m \u001b[0mb\u001b[0m\u001b[0;34m)\u001b[0m\u001b[0;34m\u001b[0m\u001b[0;34m\u001b[0m\u001b[0m\n\u001b[0;32m----> 6\u001b[0;31m \u001b[0mb\u001b[0m\u001b[0;34m[\u001b[0m\u001b[0;36m0\u001b[0m\u001b[0;34m]\u001b[0m\u001b[0;34m=\u001b[0m \u001b[0;34m'W'\u001b[0m\u001b[0;34m\u001b[0m\u001b[0;34m\u001b[0m\u001b[0m\n\u001b[0m\u001b[1;32m      7\u001b[0m \u001b[0mprint\u001b[0m\u001b[0;34m(\u001b[0m\u001b[0;34m\"Modified list:\"\u001b[0m\u001b[0;34m,\u001b[0m \u001b[0mb2a_hex\u001b[0m\u001b[0;34m)\u001b[0m\u001b[0;34m\u001b[0m\u001b[0;34m\u001b[0m\u001b[0m\n",
            "\u001b[0;31mTypeError\u001b[0m: 'str' object does not support item assignment"
          ]
        }
      ]
    },
    {
      "cell_type": "code",
      "source": [
        "# 6. (question 6 & 7 ARE SAME in question paper)Write a function to demonstrate the behaviour of mutable and immutable arguments.\n",
        "# same as above program?\n",
        "list_cont =  [1, 2, 3, 4, 5, 6.6, 3+5j, True, \"Ajay\"]\n",
        "print(\"list:\", list_cont)\n",
        "list_cont[0] = 1.2\n",
        "print(\"Modified list:\", list_cont)\n",
        "\n",
        "b='Ajay'\n",
        "b[0]\n",
        "print(\"list:\", b)\n",
        "b[0]= 'W'\n",
        "print(\"Modified list:\", b2a_hex)"
      ],
      "metadata": {
        "id": "25d_s-LZdtxq"
      },
      "execution_count": null,
      "outputs": []
    },
    {
      "cell_type": "markdown",
      "source": [],
      "metadata": {
        "id": "y9fnGUtCq3oL"
      }
    },
    {
      "cell_type": "code",
      "source": [
        "# 7. Write a program to demonstrate the use of logical operators.\n",
        "# 7.1 Simple example for and operator\n",
        "True and True\n"
      ],
      "metadata": {
        "id": "vWx2HAFQd8Lz",
        "colab": {
          "base_uri": "https://localhost:8080/"
        },
        "outputId": "3023d815-edd7-4cde-f5c2-e5c31121dc67"
      },
      "execution_count": 6,
      "outputs": [
        {
          "output_type": "execute_result",
          "data": {
            "text/plain": [
              "True"
            ]
          },
          "metadata": {},
          "execution_count": 6
        }
      ]
    },
    {
      "cell_type": "code",
      "source": [
        "# 7.2 Example 2 for or operator\n",
        "True or False"
      ],
      "metadata": {
        "colab": {
          "base_uri": "https://localhost:8080/"
        },
        "id": "eK4VRKx0kOyu",
        "outputId": "5194231f-c237-46de-b25a-25c17bb4fc8c"
      },
      "execution_count": 7,
      "outputs": [
        {
          "output_type": "execute_result",
          "data": {
            "text/plain": [
              "True"
            ]
          },
          "metadata": {},
          "execution_count": 7
        }
      ]
    },
    {
      "cell_type": "code",
      "source": [
        "# 7.3 Example 3 for not operator\n",
        "not False"
      ],
      "metadata": {
        "colab": {
          "base_uri": "https://localhost:8080/"
        },
        "id": "b9zBEwOokpcb",
        "outputId": "d31e4892-2e12-47e6-b277-03ab4a19c7bf"
      },
      "execution_count": 8,
      "outputs": [
        {
          "output_type": "execute_result",
          "data": {
            "text/plain": [
              "True"
            ]
          },
          "metadata": {},
          "execution_count": 8
        }
      ]
    },
    {
      "cell_type": "code",
      "source": [
        "# 8. Write a Python program to convert user input from string to integer, float, and boolean types.\n",
        "\n",
        "# 8.1 taking user input, all input is in the form of string\n",
        "name = input(\"please enter your name: \")\n",
        "name\n",
        "type(name)"
      ],
      "metadata": {
        "id": "Dl53vyk8eNPo",
        "colab": {
          "base_uri": "https://localhost:8080/"
        },
        "outputId": "844d6145-bf18-4c96-d314-bc378b359fac"
      },
      "execution_count": 15,
      "outputs": [
        {
          "name": "stdout",
          "output_type": "stream",
          "text": [
            "please enter your name: 1\n"
          ]
        },
        {
          "output_type": "execute_result",
          "data": {
            "text/plain": [
              "str"
            ]
          },
          "metadata": {},
          "execution_count": 15
        }
      ]
    },
    {
      "cell_type": "code",
      "source": [
        "# Convert string to int\n",
        "name = int(name)\n",
        "type(name)"
      ],
      "metadata": {
        "colab": {
          "base_uri": "https://localhost:8080/"
        },
        "id": "4mx6SU1qpU9z",
        "outputId": "8cf2b636-97ef-43a5-daaf-946ccfea16cf"
      },
      "execution_count": 16,
      "outputs": [
        {
          "output_type": "execute_result",
          "data": {
            "text/plain": [
              "int"
            ]
          },
          "metadata": {},
          "execution_count": 16
        }
      ]
    },
    {
      "cell_type": "code",
      "source": [
        "# 8.2 taking user input, all input is in the form of string\n",
        "name = input(\"please enter your name: \")\n",
        "name\n",
        "type(name)"
      ],
      "metadata": {
        "colab": {
          "base_uri": "https://localhost:8080/"
        },
        "id": "Cmq4WNa8pjdF",
        "outputId": "a8a59275-042a-4ec8-bd3b-92e2d4bd28cb"
      },
      "execution_count": 17,
      "outputs": [
        {
          "name": "stdout",
          "output_type": "stream",
          "text": [
            "please enter your name: 2\n"
          ]
        },
        {
          "output_type": "execute_result",
          "data": {
            "text/plain": [
              "str"
            ]
          },
          "metadata": {},
          "execution_count": 17
        }
      ]
    },
    {
      "cell_type": "code",
      "source": [
        "# Convert string to float\n",
        "name = float(name)\n",
        "type(name)"
      ],
      "metadata": {
        "colab": {
          "base_uri": "https://localhost:8080/"
        },
        "id": "Z5IpigSSpoKE",
        "outputId": "e0f3faf6-1fd5-492b-ac24-b522b73e340d"
      },
      "execution_count": 21,
      "outputs": [
        {
          "output_type": "execute_result",
          "data": {
            "text/plain": [
              "float"
            ]
          },
          "metadata": {},
          "execution_count": 21
        }
      ]
    },
    {
      "cell_type": "code",
      "source": [
        "# 8.2 taking user input, all input is in the form of string\n",
        "name = input(\"please enter your name: \")\n",
        "name\n",
        "type(name)"
      ],
      "metadata": {
        "colab": {
          "base_uri": "https://localhost:8080/"
        },
        "id": "oHRqXFFwp-s9",
        "outputId": "cbd64b9a-bd6f-49ab-de45-4ec51213143b"
      },
      "execution_count": 22,
      "outputs": [
        {
          "name": "stdout",
          "output_type": "stream",
          "text": [
            "please enter your name: string\n"
          ]
        },
        {
          "output_type": "execute_result",
          "data": {
            "text/plain": [
              "str"
            ]
          },
          "metadata": {},
          "execution_count": 22
        }
      ]
    },
    {
      "cell_type": "code",
      "source": [
        "# Convert string to float\n",
        "name = bool(name)\n",
        "type(name)\n",
        "name"
      ],
      "metadata": {
        "colab": {
          "base_uri": "https://localhost:8080/"
        },
        "id": "MVbSmOBGqAMv",
        "outputId": "65bde235-a1b8-4d1f-a860-2f471a373644"
      },
      "execution_count": 24,
      "outputs": [
        {
          "output_type": "execute_result",
          "data": {
            "text/plain": [
              "True"
            ]
          },
          "metadata": {},
          "execution_count": 24
        }
      ]
    },
    {
      "cell_type": "code",
      "source": [
        "# 9. Write code to demonstrate type casting with list elements.\n",
        "list=[\"1,2,3,4,5\"]\n"
      ],
      "metadata": {
        "id": "CkED954WehAO"
      },
      "execution_count": 32,
      "outputs": []
    },
    {
      "cell_type": "code",
      "source": [
        "# 10. Write a program that checks if a number is positive, negative, or zero.\n",
        "num=float(input(\"Enter any number: \"))\n",
        "if num > 0:\n",
        "    print(\"Number is positive.\")\n",
        "elif num < 0:\n",
        "    print(\"Number is negative.\")\n",
        "else:\n",
        "    print(\"Number is zero.\")"
      ],
      "metadata": {
        "colab": {
          "base_uri": "https://localhost:8080/"
        },
        "id": "L3X67QP5t9_T",
        "outputId": "82e4374e-094b-4d00-e2c9-8d047428484b"
      },
      "execution_count": 28,
      "outputs": [
        {
          "output_type": "stream",
          "name": "stdout",
          "text": [
            "Enter any number: -3\n",
            "Number is negative.\n"
          ]
        }
      ]
    },
    {
      "cell_type": "code",
      "source": [
        "# 11. Write a for loop to print numbers from 1 to 10.\n",
        "for num in range(1, 11):\n",
        "    print(num)"
      ],
      "metadata": {
        "id": "Hx8tdhFDe-1i",
        "colab": {
          "base_uri": "https://localhost:8080/"
        },
        "outputId": "63c31621-f9e7-4c35-960a-6ea862126762"
      },
      "execution_count": 29,
      "outputs": [
        {
          "output_type": "stream",
          "name": "stdout",
          "text": [
            "1\n",
            "2\n",
            "3\n",
            "4\n",
            "5\n",
            "6\n",
            "7\n",
            "8\n",
            "9\n",
            "10\n"
          ]
        }
      ]
    },
    {
      "cell_type": "code",
      "source": [
        "# 12. Write a Python program to find the sum of all even numbers between 1 and 50.\n",
        "answer=0\n",
        "for num in range(1, 51):\n",
        "    if num%2==0:\n",
        "        answer+=num\n",
        "print(answer)"
      ],
      "metadata": {
        "id": "fSPL1rCjfDfW",
        "colab": {
          "base_uri": "https://localhost:8080/"
        },
        "outputId": "72903620-a5d2-4fda-cd0a-054547f147f7"
      },
      "execution_count": 30,
      "outputs": [
        {
          "output_type": "stream",
          "name": "stdout",
          "text": [
            "650\n"
          ]
        }
      ]
    },
    {
      "cell_type": "code",
      "source": [
        "# 13. Write a program to reverse a string using a while loop.\n"
      ],
      "metadata": {
        "id": "o9nIoJ1BfMWb"
      },
      "execution_count": null,
      "outputs": []
    },
    {
      "cell_type": "code",
      "source": [
        "# 14. Write a Python program to calculate the factorial of a number by the user using a while loop.\n"
      ],
      "metadata": {
        "id": "6CSgQFxbfTKS"
      },
      "execution_count": null,
      "outputs": []
    }
  ]
}